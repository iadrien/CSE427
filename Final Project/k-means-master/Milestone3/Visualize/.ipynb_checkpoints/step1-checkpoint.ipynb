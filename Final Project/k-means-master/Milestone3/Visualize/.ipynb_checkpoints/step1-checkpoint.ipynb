{
 "cells": [
  {
   "cell_type": "code",
   "execution_count": 1,
   "metadata": {},
   "outputs": [],
   "source": [
    "import pandas as pd\n",
    "import matplotlib.pyplot as plt\n",
    "import os"
   ]
  },
  {
   "cell_type": "code",
   "execution_count": 2,
   "metadata": {},
   "outputs": [],
   "source": [
    "filelist = [f for f in os.listdir('step1-data') if not f.startswith('.') and not f.startswith('_')]"
   ]
  },
  {
   "cell_type": "code",
   "execution_count": 3,
   "metadata": {},
   "outputs": [
    {
     "name": "stdout",
     "output_type": "stream",
     "text": [
      "['part-00001', 'part-00000']\n"
     ]
    }
   ],
   "source": [
    "print(filelist)"
   ]
  },
  {
   "cell_type": "code",
   "execution_count": 4,
   "metadata": {},
   "outputs": [],
   "source": [
    "df_list = [pd.read_csv('step1-data/{}'.format(file),sep=\",\",  names = [\"Lat\", \"Long\", \"Date\", \"Manufacturer\", \"model\"]) for file in filelist]\n",
    "df = pd.concat(df_list, sort=False)"
   ]
  },
  {
   "cell_type": "code",
   "execution_count": 5,
   "metadata": {},
   "outputs": [
    {
     "name": "stdout",
     "output_type": "stream",
     "text": [
      "         Lat        Long                 Date Manufacturer    model\n",
      "0  35.067650 -114.337146  2014-03-15:11:44:30     Sorrento     F41L\n",
      "1  34.587080 -118.022567  2014-03-15:11:44:30     Sorrento     F41L\n",
      "2  42.690176 -122.569438  2014-03-15:11:44:30        Ronin  Novelty\n",
      "3  35.337767 -115.836273  2014-03-15:11:44:30     Sorrento     F41L\n",
      "4  32.942967 -110.611556  2014-03-15:11:44:31     Sorrento     F41L\n",
      "5  42.721973 -122.416217  2014-03-15:11:44:31        Ronin       S2\n",
      "6  45.682083 -121.894185  2014-03-15:11:44:31     Sorrento     F01L\n",
      "7  38.459963 -121.100815  2014-03-15:11:44:31     Sorrento     F41L\n",
      "8  33.070478 -116.972468  2014-03-15:11:44:31     Sorrento     F11L\n",
      "9  38.495107 -121.278289  2014-03-15:11:44:31     Sorrento     F41L\n"
     ]
    }
   ],
   "source": [
    "print(df[:10])"
   ]
  },
  {
   "cell_type": "code",
   "execution_count": 8,
   "metadata": {},
   "outputs": [
    {
     "data": {
      "image/png": "[encoded data removed]",
      "text/plain": [
       "<Figure size 432x288 with 1 Axes>"
      ]
     },
     "metadata": {
      "needs_background": "light"
     },
     "output_type": "display_data"
    }
   ],
   "source": [
    "fig, ax = plt.subplots()\n",
    "ax.scatter(df['Long'], df['Lat'], marker=\"o\",alpha=0.3)\n",
    "ax.set_ylim((30,48))\n",
    "ax.set_xlim((-125,-105))\n",
    "ax.set_xlabel('Lat', fontsize=10)\n",
    "ax.set_ylabel('Long', fontsize=10)\n",
    "ax.set_title('device data')\n",
    "ax.grid(True)\n",
    "fig.tight_layout()\n",
    "\n",
    "plt.show()"
   ]
  },
  {
   "cell_type": "code",
   "execution_count": null,
   "metadata": {},
   "outputs": [],
   "source": []
  }
 ],
 "metadata": {
  "kernelspec": {
   "display_name": "Python 3",
   "language": "python",
   "name": "python3"
  },
  "language_info": {
   "codemirror_mode": {
    "name": "ipython",
    "version": 3
   },
   "file_extension": ".py",
   "mimetype": "text/x-python",
   "name": "python",
   "nbconvert_exporter": "python",
   "pygments_lexer": "ipython3",
   "version": "3.6.7"
  }
 },
 "nbformat": 4,
 "nbformat_minor": 2
}
